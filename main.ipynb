{
 "cells": [
  {
   "cell_type": "markdown",
   "metadata": {},
   "source": [
    "# 1. Settings"
   ]
  },
  {
   "cell_type": "code",
   "execution_count": null,
   "metadata": {},
   "outputs": [],
   "source": [
    "# Import packages not present in prod/base/1.1 (e.g. evidently)\n",
    "import os\n",
    "\n",
    "os.system('sudo pip install evidently')\n",
    "os.system('sudo pip install plotly.express')\n",
    "# os.system('pip install ...')\n",
    "\n",
    "# Note: Similar approach can be used to install different packages"
   ]
  },
  {
   "cell_type": "code",
   "execution_count": null,
   "metadata": {},
   "outputs": [],
   "source": [
    "# Auto-reload for packages\n",
    "%load_ext autoreload\n",
    "%autoreload 2"
   ]
  },
  {
   "cell_type": "code",
   "execution_count": null,
   "metadata": {},
   "outputs": [],
   "source": [
    "# Import packages\n",
    "import pandas as pd\n",
    "import numpy as np\n",
    "from datetime import datetime\n",
    "\n",
    "# Import viz tools\n",
    "from matplotlib import pyplot as plt\n",
    "import seaborn as sns\n",
    "\n",
    "# Modelling packages\n",
    "from sklearn.model_selection import train_test_split\n",
    "from sklearn.linear_model import LogisticRegression\n",
    "from sklearn.metrics import classification_report\n",
    "\n",
    "# Logger\n",
    "import logging"
   ]
  },
  {
   "cell_type": "code",
   "execution_count": null,
   "metadata": {},
   "outputs": [],
   "source": [
    "# Remove warnings\n",
    "import warnings\n",
    "warnings.filterwarnings(\"ignore\")"
   ]
  },
  {
   "cell_type": "code",
   "execution_count": null,
   "metadata": {},
   "outputs": [],
   "source": [
    "# Configure logger\n",
    "# Load config and logger\n",
    "from eztools.operations import Logger, ConfigReader\n",
    "logger = Logger('/mnt/logs/', logger_name = 'L&L').get_logger()"
   ]
  },
  {
   "cell_type": "code",
   "execution_count": null,
   "metadata": {},
   "outputs": [],
   "source": [
    "# Import packages\n",
    "from src.etl.get_data import read_csv_data\n",
    "from src.etl.get_missing_values import get_df_na, get_na_columns, impute_nan, plot_kdensity\n",
    "from src.etl.get_train_test_set import get_train_test_set\n",
    "from src.ml.get_lasso_model_predictions import get_lasso_model_predictions\n",
    "from src.ml.get_model_accuracy import get_model_accuracy"
   ]
  },
  {
   "cell_type": "code",
   "execution_count": null,
   "metadata": {},
   "outputs": [],
   "source": [
    "# Read config.ini\n",
    "CONFIG_PATH = '/repos/poc-model-drift/src/config/config.ini'\n",
    "config = ConfigReader(CONFIG_PATH, config_tuple = False).read_config()\n",
    "\n",
    "# Unpack config\n",
    "DATA_PATH = config['data']['data_path']"
   ]
  },
  {
   "cell_type": "markdown",
   "metadata": {},
   "source": [
    "# 2. ML Pipeline"
   ]
  },
  {
   "cell_type": "markdown",
   "metadata": {},
   "source": [
    "## 2.1 Read data"
   ]
  },
  {
   "cell_type": "code",
   "execution_count": null,
   "metadata": {},
   "outputs": [],
   "source": [
    "# Read data\n",
    "df = read_csv_data(DATA_PATH)"
   ]
  },
  {
   "cell_type": "code",
   "execution_count": null,
   "metadata": {},
   "outputs": [],
   "source": [
    "# Plot info about the data\n",
    "df.info()"
   ]
  },
  {
   "cell_type": "markdown",
   "metadata": {},
   "source": [
    "## 2.2 Missing values"
   ]
  },
  {
   "cell_type": "markdown",
   "metadata": {},
   "source": [
    "### 2.2.1 Calculate missing values"
   ]
  },
  {
   "cell_type": "code",
   "execution_count": null,
   "metadata": {},
   "outputs": [],
   "source": [
    "# Get df with na values\n",
    "df_na = get_df_na(df)\n",
    "df_na"
   ]
  },
  {
   "cell_type": "code",
   "execution_count": null,
   "metadata": {},
   "outputs": [],
   "source": [
    "# Columns with nan values\n",
    "COLS_TO_IMPUTE = get_na_columns(df_na)\n",
    "COLS_TO_IMPUTE"
   ]
  },
  {
   "cell_type": "markdown",
   "metadata": {},
   "source": [
    "### 2.2.2 Impute nan values"
   ]
  },
  {
   "cell_type": "code",
   "execution_count": null,
   "metadata": {},
   "outputs": [],
   "source": [
    "# Plot distribution of the missing columns\n",
    "plot_kdensity(df, 'pH')"
   ]
  },
  {
   "cell_type": "code",
   "execution_count": null,
   "metadata": {},
   "outputs": [],
   "source": [
    "# Impute nan values\n",
    "df = impute_nan(df, cols = 'pH', replacement = 'mean')"
   ]
  },
  {
   "cell_type": "markdown",
   "metadata": {},
   "source": [
    "## 2.3 Modelling"
   ]
  },
  {
   "cell_type": "markdown",
   "metadata": {},
   "source": [
    "### 2.3.1 Lasso Logistic regression"
   ]
  },
  {
   "cell_type": "code",
   "execution_count": null,
   "metadata": {},
   "outputs": [],
   "source": [
    "# Split data into train and test set\n",
    "X_train, X_test, y_train, y_test = get_train_test_set(df, response = 'wine_colour', pos_class = 'white')"
   ]
  },
  {
   "cell_type": "code",
   "execution_count": null,
   "metadata": {},
   "outputs": [],
   "source": [
    "# Train lasso model & make the predictions\n",
    "y_pred = get_lasso_model_predictions(X_train, X_test, y_train)"
   ]
  },
  {
   "cell_type": "markdown",
   "metadata": {},
   "source": [
    "# 3. Model evaluation"
   ]
  },
  {
   "cell_type": "code",
   "execution_count": null,
   "metadata": {},
   "outputs": [],
   "source": [
    "# Get classification metrics\n",
    "accuracy = get_model_accuracy(y_test, y_pred)\n",
    "accuracy"
   ]
  },
  {
   "cell_type": "markdown",
   "metadata": {},
   "source": [
    "# 4. Model Drift in Production"
   ]
  },
  {
   "cell_type": "code",
   "execution_count": null,
   "metadata": {},
   "outputs": [],
   "source": [
    "# Import mlops packages\n",
    "from src.etl.mlops import create_column_mapping, generate_model_data_drift_report, generate_model_performance_report"
   ]
  },
  {
   "cell_type": "markdown",
   "metadata": {},
   "source": [
    "### Model Performance "
   ]
  },
  {
   "cell_type": "code",
   "execution_count": null,
   "metadata": {},
   "outputs": [],
   "source": [
    "# As part of the predictions in production, we are expected to use the pre-trained model\n",
    "lasso_model = joblib.load('./src/data/models/lasso_model.sav')"
   ]
  },
  {
   "cell_type": "code",
   "execution_count": null,
   "metadata": {},
   "outputs": [],
   "source": [
    "# Create the reference data (with target and predict)\n",
    "X_train['prediction'] = lasso_model.predict(X_train)\n",
    "X_train['prediction'] = X_train['prediction'].map({1: 'white', 0: 'red'})\n",
    "\n",
    "df_reference = pd.concat([X_train, y_train], axis = 1).reset_index(drop=True)\n",
    "df_reference['wine_colour'] = df_reference['wine_colour'].map({1: 'white', 0: 'red'})\n",
    "df_reference.head(3)"
   ]
  },
  {
   "cell_type": "code",
   "execution_count": null,
   "metadata": {},
   "outputs": [],
   "source": [
    "# Create the current data (with target and predict)\n",
    "X_test['prediction'] = lasso_model.predict(X_test)\n",
    "X_test['prediction'] = X_test['prediction'].map({1: 'white', 0: 'red'})\n",
    "\n",
    "df_current = pd.concat([X_test, y_test], axis = 1).reset_index(drop=True)\n",
    "df_current['wine_colour'] = df_current['wine_colour'].map({1: 'white', 0: 'red'})\n",
    "df_current.head(3)"
   ]
  },
  {
   "cell_type": "code",
   "execution_count": null,
   "metadata": {},
   "outputs": [],
   "source": [
    "# Get the column mapping\n",
    "column_mapping = create_column_mapping(df_reference, target = 'wine_colour', prediction = 'prediction')\n",
    "column_mapping"
   ]
  },
  {
   "cell_type": "code",
   "execution_count": null,
   "metadata": {},
   "outputs": [],
   "source": [
    "# Generate the report of the model and target/prediction drift\n",
    "generate_model_data_drift_report(df_ref = df_reference, df_prod = df_current,\n",
    "                                 column_mapping = column_mapping, response_type = 'categorical')"
   ]
  },
  {
   "cell_type": "code",
   "execution_count": null,
   "metadata": {},
   "outputs": [],
   "source": [
    "# Generate the performance report (for classification)\n",
    "generate_model_performance_report(df_ref = df_reference, df_prod = df_current,\n",
    "                                  column_mapping = column_mapping, report_type = 'classification')"
   ]
  },
  {
   "cell_type": "markdown",
   "metadata": {},
   "source": [
    " "
   ]
  },
  {
   "cell_type": "markdown",
   "metadata": {},
   "source": [
    "## 4.1 Production - Day 1"
   ]
  },
  {
   "cell_type": "code",
   "execution_count": null,
   "metadata": {},
   "outputs": [],
   "source": [
    "# Get the reference data (i.e. data used for training)\n",
    "df_reference = df.copy()\n",
    "\n",
    "# Get the production data (i.e. new data that our model is expected to classify in production)\n",
    "# Note: Data has been stored by Ioannis M. for demonstrating purposes\n",
    "df_production_day1 = pd.read_pickle('./src/data/assets/df_day1.pickle')\n",
    "df_production_day1.head(3)"
   ]
  },
  {
   "cell_type": "code",
   "execution_count": null,
   "metadata": {},
   "outputs": [],
   "source": [
    "# Make the prediction on the training data (just for demonstrating purposes)\n",
    "df_production_day1['prediction'] = lasso_model.predict(df_production_day1)\n",
    "df_production_day1['prediction'] = df_production_day1['prediction'].map({1: 'white', 0: 'red'})\n",
    "df_production_day1.head(3)"
   ]
  },
  {
   "cell_type": "code",
   "execution_count": null,
   "metadata": {},
   "outputs": [],
   "source": [
    "# Drop the Target as it is not needed when the ground truth is not available\n",
    "df_reference.drop('wine_colour', axis=1, inplace=True)\n",
    "\n",
    "# Make the prediction on the training data (just for demonstrating purposes)\n",
    "df_reference['prediction'] = lasso_model.predict(df_reference)\n",
    "df_reference['prediction'] = df_reference['prediction'].map({1: 'white', 0: 'red'})\n",
    "\n",
    "# Explore how the reference data looks\n",
    "df_reference.head(3)"
   ]
  },
  {
   "cell_type": "code",
   "execution_count": null,
   "metadata": {},
   "outputs": [],
   "source": [
    "# Generate the model & prediction drift in production (e.g. day 1)\n",
    "generate_model_data_drift_report(df_ref = df_reference, df_prod = df_production_day1,\n",
    "                                 column_mapping = column_mapping, response_type = 'categorical')"
   ]
  },
  {
   "cell_type": "markdown",
   "metadata": {},
   "source": [
    " "
   ]
  },
  {
   "cell_type": "markdown",
   "metadata": {},
   "source": [
    "## 4.2 Production - Day 2"
   ]
  },
  {
   "cell_type": "code",
   "execution_count": null,
   "metadata": {},
   "outputs": [],
   "source": [
    "# Get the production data (i.e. new data that our model is expected to classify in production)\n",
    "# Note: Data has been stored by Ioannis M. for demonstrating purposes\n",
    "df_production_day2 = pd.read_pickle('./src/data/assets/df_day2.pickle')\n",
    "df_production_day2.head(3)"
   ]
  },
  {
   "cell_type": "code",
   "execution_count": null,
   "metadata": {},
   "outputs": [],
   "source": [
    "# Make the prediction on the training data (just for demonstrating purposes)\n",
    "df_production_day2['prediction'] = lasso_model.predict(df_production_day2)\n",
    "df_production_day2['prediction'] = df_production_day2['prediction'].map({1: 'white', 0: 'red'})\n",
    "df_production_day2.head(3)"
   ]
  },
  {
   "cell_type": "code",
   "execution_count": null,
   "metadata": {},
   "outputs": [],
   "source": [
    "# Explore how the reference data looks\n",
    "df_reference.head(3)"
   ]
  },
  {
   "cell_type": "code",
   "execution_count": null,
   "metadata": {},
   "outputs": [],
   "source": [
    "# Generate the model & prediction drift in production (e.g. day 2)\n",
    "generate_model_data_drift_report(df_ref = df_reference, df_prod = df_production_day2,\n",
    "                                 column_mapping = column_mapping, response_type = 'categorical')"
   ]
  },
  {
   "cell_type": "markdown",
   "metadata": {},
   "source": [
    " "
   ]
  },
  {
   "cell_type": "markdown",
   "metadata": {},
   "source": [
    "## Ground Truth - Day 1"
   ]
  },
  {
   "cell_type": "code",
   "execution_count": null,
   "metadata": {},
   "outputs": [],
   "source": [
    "# Get the production data (i.e. new data that our model is expected to classify in production)\n",
    "# Note: Data has been stored by Ioannis M. for demonstrating purposes\n",
    "df_truth_day1 = pd.read_pickle('./src/data/assets/df_day1_ground_truth.pickle')\n",
    "df_truth_day1.head(3)"
   ]
  },
  {
   "cell_type": "code",
   "execution_count": null,
   "metadata": {},
   "outputs": [],
   "source": [
    "# Make the prediction on the training data (just for demonstrating purposes)\n",
    "df_truth_day1['prediction'] = lasso_model.predict(df_truth_day1.drop('wine_colour', axis=1))\n",
    "df_truth_day1['prediction'] = df_truth_day1['prediction'].map({1: 'white', 0: 'red'})\n",
    "df_truth_day1.head(3)"
   ]
  },
  {
   "cell_type": "code",
   "execution_count": null,
   "metadata": {},
   "outputs": [],
   "source": [
    "# Capture the prediction for the ground truth data\n",
    "df_reference = df.copy()\n",
    "\n",
    "df_reference['prediction'] = lasso_model.predict(df_reference.drop('wine_colour', axis=1)) # Drop the response temporarily to predict\n",
    "df_reference['prediction'] = df_reference['prediction'].map({1: 'white', 0: 'red'})\n",
    "df_reference.head(3)"
   ]
  },
  {
   "cell_type": "code",
   "execution_count": null,
   "metadata": {},
   "outputs": [],
   "source": [
    "# Get the column mapping for the ground truth day\n",
    "column_mapping = create_column_mapping(df_reference, target = 'wine_colour', prediction = 'prediction')\n",
    "column_mapping"
   ]
  },
  {
   "cell_type": "code",
   "execution_count": null,
   "metadata": {},
   "outputs": [],
   "source": [
    "# Generate the model & prediction/target drift in production (e.g. ground_truth day1)\n",
    "generate_model_data_drift_report(df_ref = df_reference, df_prod = df_truth_day1,\n",
    "                                 column_mapping = column_mapping, response_type = 'categorical')"
   ]
  },
  {
   "cell_type": "markdown",
   "metadata": {},
   "source": [
    "# References"
   ]
  },
  {
   "cell_type": "code",
   "execution_count": null,
   "metadata": {},
   "outputs": [],
   "source": [
    "# https://github.com/evidentlyai/evidently/blob/main/evidently/examples/bicycle_demand_monitoring.ipynb\n",
    "# https://evidentlyai.com/blog/tutorial-1-model-analytics-in-production\n",
    "# https://docs.evidentlyai.com/"
   ]
  }
 ],
 "metadata": {
  "kernelspec": {
   "display_name": "Python 3",
   "language": "python",
   "name": "python3"
  },
  "language_info": {
   "codemirror_mode": {
    "name": "ipython",
    "version": 3
   },
   "file_extension": ".py",
   "mimetype": "text/x-python",
   "name": "python",
   "nbconvert_exporter": "python",
   "pygments_lexer": "ipython3",
   "version": "3.7.6"
  }
 },
 "nbformat": 4,
 "nbformat_minor": 4
}
