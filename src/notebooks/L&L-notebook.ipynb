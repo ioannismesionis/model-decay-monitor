{
 "cells": [
  {
   "cell_type": "markdown",
   "metadata": {},
   "source": [
    "# 1. Project structure"
   ]
  },
  {
   "cell_type": "markdown",
   "metadata": {},
   "source": [
    "When a data science project is about to kick-off, there are different templates that can be used. In fact, there are already different data science project templates created in GitHub that are publicly available for use. <br>\n",
    "A well known example is the Cookie Cutter [template](https://drivendata.github.io/cookiecutter-data-science/) which apparently is my favorite considering the name (Ioannis here!).\n",
    "\n",
    "For EasyJet, the data science team has already developed a personlized project template upon various discussions between the team members. <br>\n",
    "You can find the project template in the following GitLab [link](http://code.europe.easyjet.local/data_science/project-template/tree/master)"
   ]
  },
  {
   "cell_type": "markdown",
   "metadata": {},
   "source": [
    "What follows below is an overview of the DS project template and its different folders, i.e. what they are and what type of files you should put within them.\n",
    "\n",
    "_Note:_ The project files are in Python but it is expected to use the same project template in R if needed (with the relevation adaptations)"
   ]
  },
  {
   "cell_type": "markdown",
   "metadata": {},
   "source": [
    "The current working directory is always the \"/repos/_my-project-name_\" <br>\n",
    "In our case the current working directory is \"/repos/my-awesome-project\""
   ]
  },
  {
   "cell_type": "code",
   "execution_count": 1,
   "metadata": {},
   "outputs": [
    {
     "name": "stdout",
     "output_type": "stream",
     "text": [
      "My Current working directory is: /repos/my-awesome-project/src/notebooks\n"
     ]
    }
   ],
   "source": [
    "import os\n",
    "\n",
    "print(f'My Current working directory is: {os.getcwd()}')"
   ]
  },
  {
   "cell_type": "markdown",
   "metadata": {},
   "source": [
    "The project template contains the following folders/files:\n",
    "- **src/** _folder_\n",
    "- **main.py** script <br>\n",
    "The main python script that runs the sequential functions the create the model or runs the complete process; this will be the productionised script\n",
    "- **main.ipynb** notebook (optional but recommended) <br>\n",
    "Mirrors the main.py script and can be used for debugging\n",
    "- **.gitlab-cy.yml** yaml file used for TDD (hidden file) <br>\n",
    "Configuration of the the TDD that triggers the CI-CD pipeline"
   ]
  },
  {
   "cell_type": "markdown",
   "metadata": {},
   "source": [
    "The main interest is in the subfolders of the src/ folder and how these subfolders are used. <br>\n",
    "The following tree-constructed visualisation shows how the src directory is broken down into different sub-directories:"
   ]
  },
  {
   "cell_type": "markdown",
   "metadata": {},
   "source": [
    "## 1.1 Folder's structure"
   ]
  },
  {
   "cell_type": "markdown",
   "metadata": {},
   "source": [
    "<b>src/</b> <br>\n",
    "│ <br>\n",
    "├────────────── <b>config/</b> <br>\n",
    "├────────────── <b>data/</b> <br>\n",
    "│&emsp; &emsp; &emsp; &emsp; &emsp; &emsp; &emsp; &emsp; &emsp;├──────────────── <b>assets/</b> <br>\n",
    "│&emsp; &emsp; &emsp; &emsp; &emsp; &emsp; &emsp; &emsp; &emsp;├──────────────── <b>json/</b> <br>\n",
    "│&emsp; &emsp; &emsp; &emsp; &emsp; &emsp; &emsp; &emsp; &emsp;└──────────────── <b>models/</b> <br>\n",
    "├────────────── <b>etl/</b> <br>\n",
    "├────────────── <b>ml/</b> <br>\n",
    "├────────────── <b>notebooks/</b> <br>\n",
    "├────────────── <b>opt/</b> <br>\n",
    "├────────────── <b>sql/</b> <br>\n",
    "└────────────── <b>tests/</b> <br>"
   ]
  },
  {
   "cell_type": "markdown",
   "metadata": {},
   "source": [
    "  "
   ]
  },
  {
   "cell_type": "markdown",
   "metadata": {},
   "source": [
    "## 1.2 Folder's explanation"
   ]
  },
  {
   "cell_type": "markdown",
   "metadata": {},
   "source": [
    "* **Config/** <br>\n",
    "Contains config files (e.g. _config.ini_)\n",
    "\n",
    "* **Data/**\n",
    "    * **assets/** <br>\n",
    "    Used to store .csv, .xlsx, or other similar files. By default .csv and .xlsx are blocked from being uploaded to GitLab\n",
    "    * **json/** <br>\n",
    "    Used to store lists or dictionaries in an easy to edit way <br>\n",
    "    * **models/** <br>\n",
    "    Used to store serialised machine learning models. For instance, a trained model could be stored here as a pickle file (e.g. .pkl)\n",
    "    \n",
    "* **etl/** <br>\n",
    "ETL stands for Extract, Transform, Load. This folder contains any pipeline scripts that are used in the project. <br>\n",
    "For instance, a Machine Learning project can have scripts that perform pre-processing in the data. Such scripts should be listed within the _etl_ folder\n",
    "\n",
    "* **ml/** <br>\n",
    "Folder that contains any machine learning scripts that are used to generate a machine learning model, update or predict from the machine learning models. \n",
    "\n",
    "* **notebooks/** <br>\n",
    "The notebooks folder can be used to store any python notebook that were used for research based work. That can include data exploration, feature engineering, model creation etc. <br>\n",
    "Notebooks are critical to store the rationale of the developer to easily on-board new people into the project.\n",
    "\n",
    "* **opt/** \n",
    "Optional folder for flexibility. For instance, for the Customer Segmentation project, this folder was renamed to \"Processes\" due to the size of the project.<br>\n",
    "You can see the folder structure of customer segmentation from the corresponding [GitLab repo](http://code.europe.easyjet.local/data_science/customer-segmentation/tree/master/src)\n",
    "\n",
    "* **sql/** <br>\n",
    "Can be used to store SQL code (i.e. _.sql_ files) to query different databases and tables, e.g. DataHub\n",
    "\n",
    "* **tests/** <br>\n",
    "Contains tests required for the project as per our Test Driven Development (TDD). <br>\n",
    "E.g. Unit, Integration, Validation etc"
   ]
  },
  {
   "cell_type": "markdown",
   "metadata": {},
   "source": [
    "# 2. ConfigReader (ezTools)"
   ]
  },
  {
   "cell_type": "markdown",
   "metadata": {},
   "source": [
    "The configReader is a class created in ezTools which enables you to to read the config file created in the the _src/config/_ folder. <br>\n",
    "The class is about converting a _config.ini_ into a tuple/dictionary to make the config parameters easily accessible.\n",
    "\n",
    "There are multiple config extensions that can be used in Python and you are welcome to explore different config files in the following [link](https://martin-thoma.com/configuration-files-in-python/#:~:text=configuration%20handling%3A%20cfg_load-,Python%20Configuration%20File,to%20avoid%20uploading%20it%20accidentally.)\n",
    "However, this ConfigReader class talks about how to work with [.ini](https://en.wikipedia.org/wiki/INI_file#:~:text=The%20name%20of%20these%20configuration,this%20method%20of%20software%20configuration.) config file which stands for initialisation.\n",
    "\n",
    "There are two main parameters that should be taken into account for the purpose of the demonstration:\n",
    "1. **config_path** <br>\n",
    "The path to the .ini config file\n",
    "2. **config_tuple** <br>\n",
    "If True -> Returns tuple <br>\n",
    "If False -> Returns dictionary"
   ]
  },
  {
   "cell_type": "markdown",
   "metadata": {},
   "source": [
    "The difference between the tuple and the dictionary is that the latter is mutable which means you can add parameters as you go. This is really useful when you know that some parameters will be used in the future.\n",
    "\n",
    "_Example:_ In customer segmentation we keep the number of principal components to transform the test data and we even store dataframes to be passed to the next process."
   ]
  },
  {
   "cell_type": "markdown",
   "metadata": {},
   "source": [
    "## 2.1 Read config as tuple"
   ]
  },
  {
   "cell_type": "code",
   "execution_count": 2,
   "metadata": {},
   "outputs": [],
   "source": [
    "# Load config reader\n",
    "from eztools.operations import ConfigReader"
   ]
  },
  {
   "cell_type": "code",
   "execution_count": 3,
   "metadata": {},
   "outputs": [
    {
     "data": {
      "text/plain": [
       "Struct(settings=Struct(repos_path='/repos/my-awesome-project', mnt_path='/mnt'), data=Struct(data_path='/mnt/df_wine.csv', response='wine_colour', positive_class='white', target_names='red,white'))"
      ]
     },
     "execution_count": 3,
     "metadata": {},
     "output_type": "execute_result"
    }
   ],
   "source": [
    "# Read config.ini\n",
    "config_path = '/repos/my-awesome-project/src/config/config.ini'\n",
    "config = ConfigReader(config_path, config_tuple = True).read_config()\n",
    "\n",
    "# Print config\n",
    "config"
   ]
  },
  {
   "cell_type": "code",
   "execution_count": 4,
   "metadata": {},
   "outputs": [
    {
     "data": {
      "text/plain": [
       "'/repos/my-awesome-project'"
      ]
     },
     "execution_count": 4,
     "metadata": {},
     "output_type": "execute_result"
    }
   ],
   "source": [
    "# Accessing parameters of config\n",
    "# Settings -> repos_path\n",
    "config.settings.repos_path"
   ]
  },
  {
   "cell_type": "markdown",
   "metadata": {},
   "source": [
    " "
   ]
  },
  {
   "cell_type": "markdown",
   "metadata": {},
   "source": [
    "## 2.2 Read config as dictionary"
   ]
  },
  {
   "cell_type": "code",
   "execution_count": 5,
   "metadata": {},
   "outputs": [
    {
     "data": {
      "text/plain": [
       "{'settings': {'repos_path': '/repos/my-awesome-project', 'mnt_path': '/mnt'},\n",
       " 'data': {'data_path': '/mnt/df_wine.csv',\n",
       "  'response': 'wine_colour',\n",
       "  'positive_class': 'white',\n",
       "  'target_names': 'red,white'}}"
      ]
     },
     "execution_count": 5,
     "metadata": {},
     "output_type": "execute_result"
    }
   ],
   "source": [
    "# Read config.ini\n",
    "config_path = '/repos/my-awesome-project/src/config/config.ini'\n",
    "config = ConfigReader(config_path, config_tuple = False).read_config()\n",
    "\n",
    "# Print config\n",
    "config"
   ]
  },
  {
   "cell_type": "code",
   "execution_count": 6,
   "metadata": {},
   "outputs": [
    {
     "data": {
      "text/plain": [
       "'/repos/my-awesome-project'"
      ]
     },
     "execution_count": 6,
     "metadata": {},
     "output_type": "execute_result"
    }
   ],
   "source": [
    "# Accessing parameters of config\n",
    "# Settings -> repos_path\n",
    "config['settings']['repos_path']"
   ]
  },
  {
   "cell_type": "code",
   "execution_count": 7,
   "metadata": {},
   "outputs": [
    {
     "data": {
      "text/plain": [
       "{'settings': {'repos_path': '/repos/my-awesome-project',\n",
       "  'mnt_path': '/mnt',\n",
       "  'success': 'yes'},\n",
       " 'data': {'data_path': '/mnt/df_wine.csv',\n",
       "  'response': 'wine_colour',\n",
       "  'positive_class': 'white',\n",
       "  'target_names': 'red,white'}}"
      ]
     },
     "execution_count": 7,
     "metadata": {},
     "output_type": "execute_result"
    }
   ],
   "source": [
    "# Update config\n",
    "config['settings']['success'] = 'yes'\n",
    "\n",
    "# Print config\n",
    "config"
   ]
  },
  {
   "cell_type": "markdown",
   "metadata": {},
   "source": [
    "If you are interested to know more about how the config file was created and built (i.e. dive into the code), please do refer to the ezTools [documentation](http://code.europe.easyjet.local/data_science/ezTools/blob/master/eztools/operations.py)"
   ]
  },
  {
   "cell_type": "markdown",
   "metadata": {},
   "source": [
    " "
   ]
  },
  {
   "cell_type": "markdown",
   "metadata": {},
   "source": [
    "# 3. Logger (ezTools)"
   ]
  },
  {
   "cell_type": "markdown",
   "metadata": {},
   "source": [
    "The Logger() class is located in ezTools and enables the creation of a logger object from the python logging library. <br>\n",
    "Logging provides a flexible framework for emitting log messages in python processes.\n",
    "\n",
    "Python contains its own logging capabilities and you can check them out if you want to in the following [link](https://www.loggly.com/ultimate-guide/python-logging-basics/#:~:text=Standard%20Library%20Logging%20Module,log%20messages%20from%20Python%20programs.&text=Internally%2C%20the%20message%20is%20turned,object%20registered%20for%20this%20logger.)"
   ]
  },
  {
   "cell_type": "markdown",
   "metadata": {},
   "source": [
    "Let's now discuss some of the main parameters in the Logger() class\n",
    "\n",
    "1. **logger_path** <br>\n",
    "The path to the logger where the logs will be stored\n",
    "2. **logger_name** <br>\n",
    "The name of the logger\n",
    "3. **log_in_console** <br>\n",
    "Whether the log message is printed in the console\n",
    "4. **log_in_file** <br>\n",
    "Whether an output file is produced"
   ]
  },
  {
   "cell_type": "code",
   "execution_count": 8,
   "metadata": {},
   "outputs": [],
   "source": [
    "# Load logger\n",
    "from eztools.operations import Logger\n",
    "\n",
    "# Import logging for\n",
    "import logging"
   ]
  },
  {
   "cell_type": "code",
   "execution_count": 9,
   "metadata": {},
   "outputs": [],
   "source": [
    "# Add our report logger\n",
    "logger = Logger(logger_path = '/mnt/logs/', logger_name = 'L&L', log_in_console = True, log_in_file = False).get_logger()"
   ]
  },
  {
   "cell_type": "code",
   "execution_count": 10,
   "metadata": {},
   "outputs": [
    {
     "data": {
      "text/plain": [
       "[<Logger concurrent.futures (WARNING)>,\n",
       " <Logger concurrent (WARNING)>,\n",
       " <Logger asyncio (WARNING)>,\n",
       " <Logger prompt_toolkit (WARNING)>,\n",
       " <Logger parso.python.diff (WARNING)>,\n",
       " <Logger parso.python (WARNING)>,\n",
       " <Logger parso (WARNING)>,\n",
       " <Logger parso.cache (WARNING)>,\n",
       " <Logger tornado.access (WARNING)>,\n",
       " <Logger tornado (WARNING)>,\n",
       " <Logger tornado.application (WARNING)>,\n",
       " <Logger tornado.general (WARNING)>,\n",
       " <Logger IPKernelApp (WARNING)>,\n",
       " <Logger matplotlib (WARNING)>,\n",
       " <Logger matplotlib.ticker (WARNING)>,\n",
       " <Logger matplotlib.dates (WARNING)>,\n",
       " <Logger matplotlib.font_manager (WARNING)>,\n",
       " <Logger matplotlib.dviread (WARNING)>,\n",
       " <Logger matplotlib.text (WARNING)>,\n",
       " <Logger eztools.operations (INFO)>,\n",
       " <Logger eztools (WARNING)>,\n",
       " <Logger L&L (DEBUG)>]"
      ]
     },
     "execution_count": 10,
     "metadata": {},
     "output_type": "execute_result"
    }
   ],
   "source": [
    "# List our loggers\n",
    "loggers = [logging.getLogger(name) for name in logging.root.manager.loggerDict]\n",
    "loggers"
   ]
  },
  {
   "cell_type": "markdown",
   "metadata": {},
   "source": [
    "# 4. Demo"
   ]
  },
  {
   "cell_type": "code",
   "execution_count": 11,
   "metadata": {},
   "outputs": [],
   "source": [
    "import pandas as pd"
   ]
  },
  {
   "cell_type": "code",
   "execution_count": 12,
   "metadata": {},
   "outputs": [
    {
     "data": {
      "text/html": [
       "<div>\n",
       "<style scoped>\n",
       "    .dataframe tbody tr th:only-of-type {\n",
       "        vertical-align: middle;\n",
       "    }\n",
       "\n",
       "    .dataframe tbody tr th {\n",
       "        vertical-align: top;\n",
       "    }\n",
       "\n",
       "    .dataframe thead th {\n",
       "        text-align: right;\n",
       "    }\n",
       "</style>\n",
       "<table border=\"1\" class=\"dataframe\">\n",
       "  <thead>\n",
       "    <tr style=\"text-align: right;\">\n",
       "      <th></th>\n",
       "      <th>fixed acidity</th>\n",
       "      <th>volatile acidity</th>\n",
       "      <th>citric acid</th>\n",
       "      <th>residual sugar</th>\n",
       "      <th>chlorides</th>\n",
       "      <th>free sulfur dioxide</th>\n",
       "      <th>total sulfur dioxide</th>\n",
       "      <th>density</th>\n",
       "      <th>pH</th>\n",
       "      <th>sulphates</th>\n",
       "      <th>alcohol</th>\n",
       "      <th>quality</th>\n",
       "      <th>wine_colour</th>\n",
       "    </tr>\n",
       "  </thead>\n",
       "  <tbody>\n",
       "    <tr>\n",
       "      <th>0</th>\n",
       "      <td>7.0</td>\n",
       "      <td>0.270</td>\n",
       "      <td>0.36</td>\n",
       "      <td>20.7</td>\n",
       "      <td>0.045</td>\n",
       "      <td>45.0</td>\n",
       "      <td>170.0</td>\n",
       "      <td>1.00100</td>\n",
       "      <td>3.00</td>\n",
       "      <td>0.45</td>\n",
       "      <td>8.8</td>\n",
       "      <td>6</td>\n",
       "      <td>white</td>\n",
       "    </tr>\n",
       "    <tr>\n",
       "      <th>1</th>\n",
       "      <td>6.3</td>\n",
       "      <td>0.300</td>\n",
       "      <td>0.34</td>\n",
       "      <td>1.6</td>\n",
       "      <td>0.049</td>\n",
       "      <td>14.0</td>\n",
       "      <td>132.0</td>\n",
       "      <td>0.99400</td>\n",
       "      <td>3.30</td>\n",
       "      <td>0.49</td>\n",
       "      <td>9.5</td>\n",
       "      <td>6</td>\n",
       "      <td>white</td>\n",
       "    </tr>\n",
       "    <tr>\n",
       "      <th>2</th>\n",
       "      <td>8.1</td>\n",
       "      <td>0.280</td>\n",
       "      <td>0.40</td>\n",
       "      <td>6.9</td>\n",
       "      <td>0.050</td>\n",
       "      <td>30.0</td>\n",
       "      <td>97.0</td>\n",
       "      <td>0.99510</td>\n",
       "      <td>3.26</td>\n",
       "      <td>0.44</td>\n",
       "      <td>10.1</td>\n",
       "      <td>6</td>\n",
       "      <td>white</td>\n",
       "    </tr>\n",
       "    <tr>\n",
       "      <th>3</th>\n",
       "      <td>7.2</td>\n",
       "      <td>0.230</td>\n",
       "      <td>0.32</td>\n",
       "      <td>8.5</td>\n",
       "      <td>0.058</td>\n",
       "      <td>47.0</td>\n",
       "      <td>186.0</td>\n",
       "      <td>0.99560</td>\n",
       "      <td>3.19</td>\n",
       "      <td>0.40</td>\n",
       "      <td>9.9</td>\n",
       "      <td>6</td>\n",
       "      <td>white</td>\n",
       "    </tr>\n",
       "    <tr>\n",
       "      <th>4</th>\n",
       "      <td>7.2</td>\n",
       "      <td>0.230</td>\n",
       "      <td>0.32</td>\n",
       "      <td>8.5</td>\n",
       "      <td>0.058</td>\n",
       "      <td>47.0</td>\n",
       "      <td>186.0</td>\n",
       "      <td>0.99560</td>\n",
       "      <td>3.19</td>\n",
       "      <td>0.40</td>\n",
       "      <td>9.9</td>\n",
       "      <td>6</td>\n",
       "      <td>white</td>\n",
       "    </tr>\n",
       "    <tr>\n",
       "      <th>...</th>\n",
       "      <td>...</td>\n",
       "      <td>...</td>\n",
       "      <td>...</td>\n",
       "      <td>...</td>\n",
       "      <td>...</td>\n",
       "      <td>...</td>\n",
       "      <td>...</td>\n",
       "      <td>...</td>\n",
       "      <td>...</td>\n",
       "      <td>...</td>\n",
       "      <td>...</td>\n",
       "      <td>...</td>\n",
       "      <td>...</td>\n",
       "    </tr>\n",
       "    <tr>\n",
       "      <th>6492</th>\n",
       "      <td>6.2</td>\n",
       "      <td>0.600</td>\n",
       "      <td>0.08</td>\n",
       "      <td>2.0</td>\n",
       "      <td>0.090</td>\n",
       "      <td>32.0</td>\n",
       "      <td>44.0</td>\n",
       "      <td>0.99490</td>\n",
       "      <td>3.45</td>\n",
       "      <td>0.58</td>\n",
       "      <td>10.5</td>\n",
       "      <td>5</td>\n",
       "      <td>red</td>\n",
       "    </tr>\n",
       "    <tr>\n",
       "      <th>6493</th>\n",
       "      <td>5.9</td>\n",
       "      <td>0.550</td>\n",
       "      <td>0.10</td>\n",
       "      <td>2.2</td>\n",
       "      <td>0.062</td>\n",
       "      <td>39.0</td>\n",
       "      <td>51.0</td>\n",
       "      <td>0.99512</td>\n",
       "      <td>3.52</td>\n",
       "      <td>0.76</td>\n",
       "      <td>11.2</td>\n",
       "      <td>6</td>\n",
       "      <td>red</td>\n",
       "    </tr>\n",
       "    <tr>\n",
       "      <th>6494</th>\n",
       "      <td>6.3</td>\n",
       "      <td>0.510</td>\n",
       "      <td>0.13</td>\n",
       "      <td>2.3</td>\n",
       "      <td>0.076</td>\n",
       "      <td>29.0</td>\n",
       "      <td>40.0</td>\n",
       "      <td>0.99574</td>\n",
       "      <td>3.42</td>\n",
       "      <td>0.75</td>\n",
       "      <td>11.0</td>\n",
       "      <td>6</td>\n",
       "      <td>red</td>\n",
       "    </tr>\n",
       "    <tr>\n",
       "      <th>6495</th>\n",
       "      <td>5.9</td>\n",
       "      <td>0.645</td>\n",
       "      <td>0.12</td>\n",
       "      <td>2.0</td>\n",
       "      <td>0.075</td>\n",
       "      <td>32.0</td>\n",
       "      <td>44.0</td>\n",
       "      <td>0.99547</td>\n",
       "      <td>3.57</td>\n",
       "      <td>0.71</td>\n",
       "      <td>10.2</td>\n",
       "      <td>5</td>\n",
       "      <td>red</td>\n",
       "    </tr>\n",
       "    <tr>\n",
       "      <th>6496</th>\n",
       "      <td>6.0</td>\n",
       "      <td>0.310</td>\n",
       "      <td>0.47</td>\n",
       "      <td>3.6</td>\n",
       "      <td>0.067</td>\n",
       "      <td>18.0</td>\n",
       "      <td>42.0</td>\n",
       "      <td>0.99549</td>\n",
       "      <td>3.39</td>\n",
       "      <td>0.66</td>\n",
       "      <td>11.0</td>\n",
       "      <td>6</td>\n",
       "      <td>red</td>\n",
       "    </tr>\n",
       "  </tbody>\n",
       "</table>\n",
       "<p>6497 rows × 13 columns</p>\n",
       "</div>"
      ],
      "text/plain": [
       "      fixed acidity  volatile acidity  citric acid  residual sugar  chlorides  \\\n",
       "0               7.0             0.270         0.36            20.7      0.045   \n",
       "1               6.3             0.300         0.34             1.6      0.049   \n",
       "2               8.1             0.280         0.40             6.9      0.050   \n",
       "3               7.2             0.230         0.32             8.5      0.058   \n",
       "4               7.2             0.230         0.32             8.5      0.058   \n",
       "...             ...               ...          ...             ...        ...   \n",
       "6492            6.2             0.600         0.08             2.0      0.090   \n",
       "6493            5.9             0.550         0.10             2.2      0.062   \n",
       "6494            6.3             0.510         0.13             2.3      0.076   \n",
       "6495            5.9             0.645         0.12             2.0      0.075   \n",
       "6496            6.0             0.310         0.47             3.6      0.067   \n",
       "\n",
       "      free sulfur dioxide  total sulfur dioxide  density    pH  sulphates  \\\n",
       "0                    45.0                 170.0  1.00100  3.00       0.45   \n",
       "1                    14.0                 132.0  0.99400  3.30       0.49   \n",
       "2                    30.0                  97.0  0.99510  3.26       0.44   \n",
       "3                    47.0                 186.0  0.99560  3.19       0.40   \n",
       "4                    47.0                 186.0  0.99560  3.19       0.40   \n",
       "...                   ...                   ...      ...   ...        ...   \n",
       "6492                 32.0                  44.0  0.99490  3.45       0.58   \n",
       "6493                 39.0                  51.0  0.99512  3.52       0.76   \n",
       "6494                 29.0                  40.0  0.99574  3.42       0.75   \n",
       "6495                 32.0                  44.0  0.99547  3.57       0.71   \n",
       "6496                 18.0                  42.0  0.99549  3.39       0.66   \n",
       "\n",
       "      alcohol  quality wine_colour  \n",
       "0         8.8        6       white  \n",
       "1         9.5        6       white  \n",
       "2        10.1        6       white  \n",
       "3         9.9        6       white  \n",
       "4         9.9        6       white  \n",
       "...       ...      ...         ...  \n",
       "6492     10.5        5         red  \n",
       "6493     11.2        6         red  \n",
       "6494     11.0        6         red  \n",
       "6495     10.2        5         red  \n",
       "6496     11.0        6         red  \n",
       "\n",
       "[6497 rows x 13 columns]"
      ]
     },
     "execution_count": 12,
     "metadata": {},
     "output_type": "execute_result"
    }
   ],
   "source": [
    "DATA_PATH = '/mnt/df_wine.csv'\n",
    "\n",
    "df = pd.read_csv(DATA_PATH)\n",
    "df"
   ]
  }
 ],
 "metadata": {
  "kernelspec": {
   "display_name": "Python 3",
   "language": "python",
   "name": "python3"
  },
  "language_info": {
   "codemirror_mode": {
    "name": "ipython",
    "version": 3
   },
   "file_extension": ".py",
   "mimetype": "text/x-python",
   "name": "python",
   "nbconvert_exporter": "python",
   "pygments_lexer": "ipython3",
   "version": "3.7.6"
  }
 },
 "nbformat": 4,
 "nbformat_minor": 2
}
